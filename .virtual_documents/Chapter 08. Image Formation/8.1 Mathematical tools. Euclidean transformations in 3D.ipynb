





import numpy as np
import cv2
import matplotlib.pyplot as plt
import matplotlib
import scipy.stats as stats
from ipywidgets import interact, fixed, widgets
from mpl_toolkits.mplot3d import Axes3D
from math import sin, cos, radians
# %matplotlib widget

matplotlib.rcParams['figure.figsize'] = (6.0, 6.0)
images_path = './images/'





matplotlib.rcParams['figure.figsize'] = (6.0, 6.0)

# Vector coordinates
v1 = np.array([2,1,1])
v2 = np.array([0,1,2])
v = np.column_stack((v1,v2))

# Vector labels
labels = ["v1","v2"]

# Origin coordinates
p = np.array([1,1,1])
origin = np.column_stack((p,p))

# Prepare vector for plotting input
X,Y,Z = origin[0,:], origin[1,:], origin[2,:]
U,V,W = v[0,:], v[1,:], v[2,:]

# Create figure
fig = plt.figure()

# Prepare figure for 3D data
ax = plt.axes(projection='3d') 

# Set axes limits
ax.set_xlim3d(-1, 4)
ax.set_ylim3d(-1, 4)
ax.set_zlim3d(-1, 4)

# Add axis labels and aspect ratio
ax.set_xlabel('X')
ax.set_ylabel('Y')
ax.set_zlabel('Z')
#ax.set_aspect('equal')

# Plot vectors
ax.quiver(X, Y, Z, U, V, W, color="black")

# Add labels
for i in range(len(labels)):
    ax.text(U[i]+X[i], V[i]+Y[i], W[i]+Z[i] ,labels[i], fontsize=12)

# And show the figure!
plt.plot(1,1,1,'o') # Draws the origin (0,0,0)
plt.show()





# ASSIGNMENT 1
def plot_vectors(fig, ax, v, origin, labels, color, axes_lim):
    """Plot 3D vectors using matplotlib

    Args:
        fig, ax: Figure and axes (must be 3D)
        v: Array containing vector coordinates, each column contains a 3D vector
        origin: Array containing vector origin points for 'v' array
        labels: Array of strings containing labels for the vectors, it should have same length than columns in 'v'
        color: String containing the color of the vectors
        axes_lim: 6-size vector containing the minimum and maximum limits for each axis [X_min,X_max,X_min,X_max,Z_min,Z_max]

    Returns:
        fig, ax: Figure and axis of a 3D plot with the vectors plotted
    """
    # Write your code here

    # Prepare vector for plotting input
    X, Y, Z = origin
    U, V, W = v

    # Set axes limits
    ax.set_xlim3d(axes_lim[0], axes_lim[1])
    ax.set_ylim3d(axes_lim[2], axes_lim[3])
    ax.set_zlim3d(axes_lim[4], axes_lim[5])

    # Add axis labels and aspect ratio
    ax.set_xlabel('X')
    ax.set_ylabel('Y')
    ax.set_zlabel('Z')
    # ax.set_aspect('equal')

    # Plot vectors
    ax.quiver(X, Y, Z, U, V, W, color=color)

    # Add labels
    for i in range(len(labels)):
        ax.text(
            U[i] + X[i], V[i] + Y[i], W[i] + Z[i], labels[i], fontsize=12, color=color
        )

    return fig, ax





matplotlib.rcParams["figure.figsize"] = (6.0, 6.0)

# Create figure
fig = plt.figure()

# Prepare figure for 3D data
ax = plt.axes(projection="3d")

# Vector coordinates
v = np.array([[1, 0, 0], [0, 1, 0], [0, 0, 1]])

# Origin coordinates
origin = np.array([[0, 0, 0], [0, 0, 0], [0, 0, 0]])

# Vector labels
labels = ["x", "y", "z"]

# Call plot_vectors
fig, ax = plot_vectors(fig, ax, v, origin, labels, "red", [-1, 2, -1, 2, -1, 2])





matplotlib.rcParams["figure.figsize"] = (6.0, 6.0)

# Create figure
fig = plt.figure()

# Prepare figure for 3D data
ax = plt.axes(projection="3d")

# System of reference vector coordinates
v_o = np.array([[1, 0, 0], [0, 1, 0], [0, 0, 1]])

# Origin coordinates of the reference system
origin = np.array([[0, 0, 0], [0, 0, 0], [0, 0, 0]])

# Define the vectors
p = np.vstack([1, 1, 1.5])
q = np.vstack([1.5, 1, 1])
v = q - p


# Define the origin of each vector
origin_p = np.vstack([0, 0, 0])
origin_q = np.vstack([0, 0, 0])
origin_v = p

# Vector labels
labels = ["x", "y", "z"]
labels_p = "p"
labels_q = 'q'
labels_v = "v"

# Call plot_vectors
fig, ax = plot_vectors(fig, ax, v_o, origin, labels, "red", [-1, 2, -1, 2, -1, 2])
fig, ax = plot_vectors(fig, ax, p, origin_p, labels_p, "blue", [-1, 2, -1, 2, -1, 2])
fig, ax = plot_vectors(fig, ax, q, origin_q, labels_q, "blue", [-1, 2, -1, 2, -1, 2])
fig, ax = plot_vectors(fig, ax, v, origin_v, labels_v, "green", [-1, 2, -1, 2, -1, 2])








# ASSIGNMENT 2
# Write your code here!

matplotlib.rcParams['figure.figsize'] = (6.0, 6.0)

# Create figure
fig = plt.figure()

# Prepare figure for 3D data
ax = plt.axes(projection='3d') 
   
# Vector for basis coordinates
v_o = np.array([[1,0,0],[0,1,0],[0,0,1]])

# Origin coordinates
origin = np.array([[0,0,0],[0,0,0],[0,0,0]])

# Matrix of vectors
v = np.vstack([[0, 1], [1,1.5], [0.5,1]])
origin_v = np.vstack([[0,0], [0,0], [0,0]])

# Vector labels
labels = ["x","y","z"]
labels_v = ["a","b"]

# Call plot_vectors
fig, ax = plot_vectors(fig, ax, v_o, origin, labels, "red", [-1,2,-1,2,-1,2])
fig, ax = plot_vectors(fig, ax, v, origin_v, labels_v, "blue", [-1,2,-1,2,-1,2])





# Dot product (algebraic)
dot = v[0, 0] * v[0, 1] + v[1, 0] * v[1, 1] + v[2, 0] * v[2, 1]
dot_np = np.dot(v[:, 0], v[:, 1])

print("Dot product     : " + str(dot))
print("Dot product (np): " + str(dot_np))





# Norm of second vector
norm_a = np.sqrt(v[0, 0] ** 2 + v[1, 0] ** 2 + v[2, 0] ** 2)  # Norm of the first vector
norm_b = np.sqrt(v[0, 1] ** 2 + v[1, 1] ** 2 + v[2, 1] ** 2)  # Norm of the second vector
norm_a_np = np.linalg.norm(v[:, 0])
norm_b_np = np.linalg.norm(v[:, 1])

# Projection of first vector a onto the second one b
projection = np.linalg.norm(dot / norm_b**2 * v[:, 1])

print("a norm     : " + str(round(norm_a, 2)))
print("b norm     : " + str(round(norm_b, 2)))
print("a norm (np): " + str(round(norm_a_np, 2)))
print("b norm (np): " + str(round(norm_b_np, 2)))
print("\nProjection of a onto b: " + str(round(projection, 2)))











matplotlib.rcParams["figure.figsize"] = (6.0, 6.0)

# ASSIGNMENT 3
# Write your code here!

# Vectors coordinates
v = np.array([[1, 2], [1, 3], [4, 1]])

# Vector origin points
origin = np.array([[0, 0], [0, 0], [0, 0]])

# Isolate vectors
a = v[:, 0]
b = v[:, 1]

# Compute â
hat_a = np.array([[0, -a[2], a[1]], [a[2], 0, -a[0]], [-a[1], a[0], 0]])

# Compute cross product
cross = hat_a @ b
cross_np = np.cross(a, b)

print("a x b     : " + str(cross))
print("a x b (np): " + str(cross_np))

# Compute the norm of c = a x b
norm_c = np.linalg.norm(cross)

print("Norm of c : " + str(round(norm_c, 2)))

# Transform to vertical vector
cross = np.vstack(cross)

# Create figure
fig = plt.figure()

# Prepare figure for 3D data
ax = plt.axes(projection="3d")
axes_lim = [-13, 13, -13, 13, -13, 13]

# Call plot_vectors
fig, ax = plot_vectors(fig, ax, v, origin, ["a", "b"], "red", axes_lim)
fig, ax = plot_vectors(
    fig, ax, cross, np.array(), ["c"], "blue", axes_lim
)

plt.show()











# ASSIGNMENT 4
# Write your code here!

# Vector coordinates
v = np.array(None)

#Isolate vectors
a = v[:,0]
b = v[:,1]
c = v[:,2]

# Compute â
hat_a = np.array(None)

# Compute cross product
cross = None

# Compute triple product
triple_product = None
# triple_product = np.dot(np.cross(a,b),c)

print('Triple product:', triple_product)











# ASSIGNMENT 5
def apply_transformation(transformation, v, origin, labels, axes_lim):
    """ Apply a linear transformation to a set of 3D-vectors and plot them
        
        Args:
            transformation: 3x3 matrix that defines the linear transformation
            v: Array containing vector coordinates, each column contains a 3D vector
            origin: Array containing vector origin points for 'v' array
            labels: Array of strings containing labels for the vectors, it should have same length than columns in 'v'
            axes_lim: 6-size vector containing the minimum and maximum limits for each axis [X_min,X_max,X_min,X_max,Z_min,Z_max]
    """   
    # Write your code here!
    
    # Apply transformation
    transformed_v = None @ None
    
    # Create figure
    fig = plt.figure()

    # Prepare figure for 3D data
    ax = plt.axes(projection='3d') 

    # Call plot_vectors
    fig, ax = plot_vectors(fig, ax, v, origin, labels, "black", axes_lim)
    fig, ax = plot_vectors(fig, ax, transformed_v, origin, labels, "red", axes_lim)

    plt.show()





matplotlib.rcParams['figure.figsize'] = (6.0, 6.0)

# Transformation
transformation = np.array([[2,2,2],[0,2,0],[0,0,2]])

# Vector coordinates
v = np.array([[1,0,0],[0,1,0],[0,0,1]])

# Origin coordinates
origin = np.array([[0,0,0],[0,0,0],[0,0,0]])

apply_transformation(transformation,v,origin,["x","y","z"],[-3,3,-3,3,-3,3])








p = np.array([2, 1]).T; # defines the point

alpha = radians(20) # 20 degrees 
R = np.array([[cos(alpha),-sin(alpha)],[sin(alpha),cos(alpha)]]) # Defines the rotation matrix

p_prima = R @ p # Applies the rotation

# Show the results!
fig = plt.figure(figsize=(3, 3))
plt.plot(p[0],p[1],'ko')
plt.xlim([0, 3])
plt.ylim([0, 3])
plt.plot(p_prima[0],p_prima[1],'ro')
plt.grid()
plt.text(p[0]+0.1, p[1]+0.1, "p", fontsize=12)
plt.text(p_prima[0]+0.1, p_prima[1]+0.1, "p'", fontsize=12,color="red");














# ASSIGNMENT 6
def apply_rotation_translation(v, origin, yaw, pitch, roll, translation, labels, axes_lim):
    """ Apply a linear transformation to a set of 3D-vectors and plot them
        
        Args:
            v: Array containing vector coordinates, each column contains a 3D vector
            origin: Array containing vector origin points for 'v' array.
            yaw: Degrees to rotate the coordinate system around the 'Z' axis 
            pitch: Degrees to rotate the coordinate system around the 'Y' axis 
            roll: Degrees to rotate the coordinate system around the 'X' axis 
            translation: Column vector containing the translation for each axis
            labels: Array of strings containing labels for the vectors, it should have same length than columns in 'v'
            axes_lim: 6-size vector containing the minimum and maximum limits for each axis [X_min,X_max,X_min,X_max,Z_min,Z_max]
    """   
    # Write your code here!
    
    # Transform to radians
    yaw = radians(None)
    pitch = radians(None)
    roll = radians(None)
    
    # 1. Construct rotation matrices
    Rx = np.array(None)
    Ry = np.array(None)
    Rz = np.array(None)
    
    # Combine rotation matrices
    R = None
    
    # Apply transformation
    transformed_v = None # apply rotation
    transformed_origin = None # apply translation
    
    # Create figure
    fig = plt.figure()

    # Prepare figure for 3D data
    ax = plt.axes(projection='3d') 

    # Call plot_vectors
    fig, ax = plot_vectors(fig, ax, v, origin, labels, "black", axes_lim)
    fig, ax = plot_vectors(fig, ax, transformed_v, transformed_origin, labels, "red", axes_lim)

    plt.show()





# Vector coordinates
v = np.array([[1,0,0],[0,1,0],[0,0,1]])

# Origin coordinates
origin = np.array([[0,0,0],[0,0,0],[0,0,0]])

# Traslation vector
translation = np.array([[1],[1],[1]])

# Apply transformation
apply_rotation_translation(v,origin,0,0,180,translation,["x","y","z"],[-3,3,-3,3,-3,3])








# Write your code here!

# Vector coordinates
v = np.array([[1,0,0],[0,1,0],[0,0,1]])

# Origin coordinates
origin = np.array([[0,0,0],[0,0,0],[0,0,0]])

# Traslation vector
translation = np.array(None)

# Apply transformation
apply_rotation_translation(v,origin,None,None,None,translation,["x","y","z"],[-3,3,-3,3,-3,3])








# Write your code here!

# Vector coordinates
v = np.array([[1,0,0],[0,1,0],[0,0,1]])

# Origin coordinates
origin = np.array([[0,0,0],[0,0,0],[0,0,0]])

# Traslation vector
translation = np.array(None)

# Apply transformation
apply_rotation_translation(v,origin,None,None,None,translation,["x","y","z"],[-3,3,-3,3,-3,3])






